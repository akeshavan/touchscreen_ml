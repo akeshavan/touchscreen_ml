{
 "cells": [
  {
   "cell_type": "markdown",
   "metadata": {},
   "source": [
    "# Machine Learning Project"
   ]
  },
  {
   "cell_type": "markdown",
   "metadata": {},
   "source": [
    "##### Imports"
   ]
  },
  {
   "cell_type": "code",
   "execution_count": 18,
   "metadata": {
    "collapsed": false
   },
   "outputs": [
    {
     "name": "stdout",
     "output_type": "stream",
     "text": [
      "Populating the interactive namespace from numpy and matplotlib\n"
     ]
    },
    {
     "name": "stderr",
     "output_type": "stream",
     "text": [
      "WARNING: pylab import has clobbered these variables: ['clf', 'cm']\n",
      "`%matplotlib` prevents importing * from pylab and numpy\n"
     ]
    }
   ],
   "source": [
    "%pylab inline\n",
    "import scipy.io as sio\n",
    "from sklearn.neighbors import NearestNeighbors\n",
    "from sklearn import svm, grid_search\n",
    "from sklearn.cross_validation import cross_val_predict, cross_val_score\n",
    "from sklearn.cross_validation import train_test_split\n",
    "from sklearn.metrics import confusion_matrix\n",
    "from glob import glob"
   ]
  },
  {
   "cell_type": "markdown",
   "metadata": {},
   "source": [
    "##### Define some variables"
   ]
  },
  {
   "cell_type": "code",
   "execution_count": 27,
   "metadata": {
    "collapsed": false
   },
   "outputs": [],
   "source": [
    "def get_variables(data):\n",
    "    gX, gY, rX, rY = data[\"goalx\"][-120:], data[\"goaly\"][-120:], data[\"respx\"][-120:], data[\"respy\"][-120:]\n",
    "    tmpY = gX + gY\n",
    "    mapper = {val: i for i, val in enumerate(sorted(list(set(tmpY[:,0]))))}\n",
    "    #print \"mapping is\", mapper\n",
    "    y = [mapper[Y] for Y in tmpY[:,0]] \n",
    "    X = np.hstack((rX, rY))\n",
    "    vowel_mapper = {1791: \"aah\", 2548: \"ee\", 2314: \"eh\"}\n",
    "    return X, y, vowel_mapper"
   ]
  },
  {
   "cell_type": "markdown",
   "metadata": {},
   "source": [
    "##### Define an SVM and grid search over parameters in a cross validation"
   ]
  },
  {
   "cell_type": "markdown",
   "metadata": {},
   "source": [
    "the predicted y is the cross-validated y"
   ]
  },
  {
   "cell_type": "code",
   "execution_count": 15,
   "metadata": {
    "collapsed": false
   },
   "outputs": [],
   "source": [
    "def run_svm(X,y):\n",
    "    parameters = {'kernel':('linear', 'rbf'), 'C':[1, 10]}\n",
    "    svr = svm.SVC()\n",
    "    clf = grid_search.GridSearchCV(svr, parameters)\n",
    "    y_pred = cross_val_predict(clf, X, y)\n",
    "    return y_pred"
   ]
  },
  {
   "cell_type": "markdown",
   "metadata": {},
   "source": [
    "##### Plotting functions"
   ]
  },
  {
   "cell_type": "code",
   "execution_count": 29,
   "metadata": {
    "collapsed": false
   },
   "outputs": [],
   "source": [
    "def plot_confusion_matrix(cm, mapper, title='Confusion matrix', cmap=plt.cm.Blues):\n",
    "    plt.figure()\n",
    "    plt.imshow(cm, interpolation='nearest', cmap=cmap)\n",
    "    plt.title(title)\n",
    "    plt.colorbar()\n",
    "    tick_marks = np.arange(len(mapper.keys()))\n",
    "    foo = [vowel_mapper[q] for q in sorted(mapper.keys())]\n",
    "    plt.xticks(tick_marks, foo, rotation=45)\n",
    "    plt.yticks(tick_marks, foo)\n",
    "    plt.tight_layout()\n",
    "    plt.ylabel('True label')\n",
    "    plt.xlabel('Predicted label')"
   ]
  },
  {
   "cell_type": "markdown",
   "metadata": {},
   "source": [
    "##### Show confusion matrix"
   ]
  },
  {
   "cell_type": "code",
   "execution_count": 24,
   "metadata": {
    "collapsed": false
   },
   "outputs": [],
   "source": [
    "def get_confusion_matrix(y,y_pred, mapper):\n",
    "    cm = confusion_matrix(y, y_pred)\n",
    "    cm_normalized = cm.astype('float') / cm.sum(axis=1)[:, np.newaxis]\n",
    "    plot_confusion_matrix(cm_normalized, mapper, title='Normalized confusion matrix')\n",
    "    return cm_normalized"
   ]
  },
  {
   "cell_type": "markdown",
   "metadata": {
    "collapsed": false
   },
   "source": [
    "### Load data and run on every subject"
   ]
  },
  {
   "cell_type": "code",
   "execution_count": 25,
   "metadata": {
    "collapsed": false
   },
   "outputs": [
    {
     "name": "stdout",
     "output_type": "stream",
     "text": [
      "['s10_matfile.mat', 's12_matlfile.mat', 's2_matfile.mat', 's3_matfile.mat', 's4_matfiles.mat', 's5_matfiles.mat', 's6_matfile.mat', 's7_matfile.mat', 's8_matfile.mat', 's9_matfile.mat']\n"
     ]
    }
   ],
   "source": [
    "subjects = sorted(glob(\"*.mat\"))\n",
    "print subjects"
   ]
  },
  {
   "cell_type": "code",
   "execution_count": null,
   "metadata": {
    "collapsed": false
   },
   "outputs": [],
   "source": [
    "result = {}\n",
    "for s in subjects:\n",
    "    data = sio.loadmat(s)\n",
    "    X, y, mapper = get_variables(data)\n",
    "    y_pred = run_svm(X,y)\n",
    "    CM = get_confusion_matrix(y, y_pred, mapper)\n",
    "    subname = s.split(\"_\")[0]\n",
    "    result[subname] = CM"
   ]
  },
  {
   "cell_type": "code",
   "execution_count": null,
   "metadata": {
    "collapsed": true
   },
   "outputs": [],
   "source": []
  }
 ],
 "metadata": {
  "kernelspec": {
   "display_name": "Python 2",
   "language": "python",
   "name": "python2"
  },
  "language_info": {
   "codemirror_mode": {
    "name": "ipython",
    "version": 2
   },
   "file_extension": ".py",
   "mimetype": "text/x-python",
   "name": "python",
   "nbconvert_exporter": "python",
   "pygments_lexer": "ipython2",
   "version": "2.7.11"
  }
 },
 "nbformat": 4,
 "nbformat_minor": 0
}
